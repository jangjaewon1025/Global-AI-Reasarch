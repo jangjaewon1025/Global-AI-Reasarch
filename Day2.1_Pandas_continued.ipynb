{
 "cells": [
  {
   "cell_type": "code",
   "execution_count": 82,
   "id": "fba7008a-afb9-4543-9e6a-2e97093a2f7c",
   "metadata": {},
   "outputs": [],
   "source": [
    "import numpy as np\n",
    "import matplotlib.pyplot as plt\n",
    "import seaborn as sns\n",
    "import pandas as pd\n",
    "from sklearn.model_selection import train_test_split\n",
    "from sklearn.impute import SimpleImputer\n",
    "from sklearn.preprocessing import OneHotEncoder\n",
    "from sklearn.preprocessing import StandardScaler\n",
    "# Load the dataset into a Pandas DataFrame\n",
    "df= pd.read_csv(\"../data/sleeptime_prediction_dataset.csv\")"
   ]
  },
  {
   "cell_type": "code",
   "execution_count": 84,
   "id": "33bb8dec-a09b-40cc-8a3c-8a3b8b09c1ad",
   "metadata": {},
   "outputs": [
    {
     "name": "stdout",
     "output_type": "stream",
     "text": [
      "(1551, 3)\n"
     ]
    }
   ],
   "source": [
    "# Perform the train-test split\n",
    "y = df['SleepTime']\n",
    "X = df.drop('SleepTime', axis =1, inplace=False)\n",
    "X_train, X_test, y_train, y_test=train_test_split(X, y, test_size=.20)\n",
    "print(X_train.shape)"
   ]
  },
  {
   "cell_type": "code",
   "execution_count": 86,
   "id": "da50a446-6fa6-4016-85f7-8d63bf4f2854",
   "metadata": {},
   "outputs": [],
   "source": [
    "# Get the categorical and numerical variable column indices\n",
    "num_var = ['WorkoutTime', 'PhoneTime']\n",
    "# Splice the training array\n",
    "X_train_num = X_train[num_var]\n",
    "# Splice the test array\n",
    "X_test_num = X_test[num_var]"
   ]
  },
  {
   "cell_type": "code",
   "execution_count": 88,
   "id": "51a6f0b4-4275-4d04-a9f9-e86b74597bd1",
   "metadata": {},
   "outputs": [
    {
     "data": {
      "text/plain": [
       "((1551, 2), (388, 2))"
      ]
     },
     "execution_count": 88,
     "metadata": {},
     "output_type": "execute_result"
    }
   ],
   "source": [
    "norm_e=StandardScaler()\n",
    "dummy_e=OneHotEncoder(categories='auto',drop='first')\n",
    "X_train_norm = norm_e.fit_transform(X_train_num)\n",
    "X_test_norm = norm_e.transform(X_test_num)\n",
    "\n",
    "X_train_norm.shape, X_test_norm.shape"
   ]
  },
  {
   "cell_type": "code",
   "execution_count": 90,
   "id": "033b3cfb-489f-43c2-a64c-fc58685a5d40",
   "metadata": {},
   "outputs": [
    {
     "data": {
      "text/html": [
       "<div>\n",
       "<style scoped>\n",
       "    .dataframe tbody tr th:only-of-type {\n",
       "        vertical-align: middle;\n",
       "    }\n",
       "\n",
       "    .dataframe tbody tr th {\n",
       "        vertical-align: top;\n",
       "    }\n",
       "\n",
       "    .dataframe thead th {\n",
       "        text-align: right;\n",
       "    }\n",
       "</style>\n",
       "<table border=\"1\" class=\"dataframe\">\n",
       "  <thead>\n",
       "    <tr style=\"text-align: right;\">\n",
       "      <th></th>\n",
       "      <th>WorkoutTime</th>\n",
       "      <th>PhoneTime</th>\n",
       "      <th>WorkHours</th>\n",
       "    </tr>\n",
       "  </thead>\n",
       "  <tbody>\n",
       "    <tr>\n",
       "      <th>1458</th>\n",
       "      <td>2.51</td>\n",
       "      <td>2.55</td>\n",
       "      <td>6.93</td>\n",
       "    </tr>\n",
       "    <tr>\n",
       "      <th>1849</th>\n",
       "      <td>2.68</td>\n",
       "      <td>1.65</td>\n",
       "      <td>4.31</td>\n",
       "    </tr>\n",
       "    <tr>\n",
       "      <th>1349</th>\n",
       "      <td>0.50</td>\n",
       "      <td>1.26</td>\n",
       "      <td>7.25</td>\n",
       "    </tr>\n",
       "    <tr>\n",
       "      <th>87</th>\n",
       "      <td>1.28</td>\n",
       "      <td>4.79</td>\n",
       "      <td>6.74</td>\n",
       "    </tr>\n",
       "    <tr>\n",
       "      <th>1552</th>\n",
       "      <td>1.54</td>\n",
       "      <td>2.78</td>\n",
       "      <td>4.33</td>\n",
       "    </tr>\n",
       "    <tr>\n",
       "      <th>...</th>\n",
       "      <td>...</td>\n",
       "      <td>...</td>\n",
       "      <td>...</td>\n",
       "    </tr>\n",
       "    <tr>\n",
       "      <th>115</th>\n",
       "      <td>0.77</td>\n",
       "      <td>4.31</td>\n",
       "      <td>9.94</td>\n",
       "    </tr>\n",
       "    <tr>\n",
       "      <th>68</th>\n",
       "      <td>0.54</td>\n",
       "      <td>4.53</td>\n",
       "      <td>9.59</td>\n",
       "    </tr>\n",
       "    <tr>\n",
       "      <th>1370</th>\n",
       "      <td>0.42</td>\n",
       "      <td>2.66</td>\n",
       "      <td>4.94</td>\n",
       "    </tr>\n",
       "    <tr>\n",
       "      <th>515</th>\n",
       "      <td>0.48</td>\n",
       "      <td>3.00</td>\n",
       "      <td>6.26</td>\n",
       "    </tr>\n",
       "    <tr>\n",
       "      <th>467</th>\n",
       "      <td>0.27</td>\n",
       "      <td>1.59</td>\n",
       "      <td>9.70</td>\n",
       "    </tr>\n",
       "  </tbody>\n",
       "</table>\n",
       "<p>1551 rows × 3 columns</p>\n",
       "</div>"
      ],
      "text/plain": [
       "      WorkoutTime  PhoneTime  WorkHours\n",
       "1458         2.51       2.55       6.93\n",
       "1849         2.68       1.65       4.31\n",
       "1349         0.50       1.26       7.25\n",
       "87           1.28       4.79       6.74\n",
       "1552         1.54       2.78       4.33\n",
       "...           ...        ...        ...\n",
       "115          0.77       4.31       9.94\n",
       "68           0.54       4.53       9.59\n",
       "1370         0.42       2.66       4.94\n",
       "515          0.48       3.00       6.26\n",
       "467          0.27       1.59       9.70\n",
       "\n",
       "[1551 rows x 3 columns]"
      ]
     },
     "execution_count": 90,
     "metadata": {},
     "output_type": "execute_result"
    }
   ],
   "source": [
    "X_train"
   ]
  },
  {
   "cell_type": "code",
   "execution_count": 94,
   "id": "28e18187-c877-4f0a-b1c0-2bbf1cd24c84",
   "metadata": {},
   "outputs": [],
   "source": [
    "X_train = pd.DataFrame(X_train)\n",
    "X_train.columns = ['WorkoutTime','PhoneTime', 'WorkHours']\n",
    "\n",
    "X_test = pd.DataFrame(X_test)\n",
    "\n",
    "X_test.columns = ['WorkoutTime','PhoneTime', 'WorkHours']\n",
    "y_train = pd.DataFrame(y_train)\n",
    "y_train.columns = ['SleepTime']\n",
    "\n",
    "y_test = pd.DataFrame(y_test)\n",
    "y_test.columns = ['SleepTime']\n",
    "\n",
    "X_train.to_csv('../data/sleep_X_train.csv')\n",
    "X_test.to_csv('../data/sleep_X_test.csv')\n",
    "y_train.to_csv('../data/sleep_y_train.csv')\n",
    "y_test.to_csv('../data/sleep_y_test.csv')"
   ]
  }
 ],
 "metadata": {
  "kernelspec": {
   "display_name": "Python [conda env:base] *",
   "language": "python",
   "name": "conda-base-py"
  },
  "language_info": {
   "codemirror_mode": {
    "name": "ipython",
    "version": 3
   },
   "file_extension": ".py",
   "mimetype": "text/x-python",
   "name": "python",
   "nbconvert_exporter": "python",
   "pygments_lexer": "ipython3",
   "version": "3.12.7"
  }
 },
 "nbformat": 4,
 "nbformat_minor": 5
}
